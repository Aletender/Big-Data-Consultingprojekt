{
 "cells": [
  {
   "cell_type": "code",
   "id": "initial_id",
   "metadata": {
    "collapsed": true,
    "ExecuteTime": {
     "end_time": "2024-11-19T17:31:14.505491Z",
     "start_time": "2024-11-19T17:31:12.558347Z"
    }
   },
   "source": [
    "import base64\n",
    "import vertexai\n",
    "from vertexai.generative_models import GenerativeModel, Part, SafetySetting\n",
    "from vertexai.preview.prompts import Prompt\n",
    "\n",
    "\n",
    "def generate():\n",
    "    vertexai.init(project=\"dish-data-lab-prod-2512\", location=\"us-central1\")\n",
    "    variables = [\n",
    "        {\n",
    "            \"business\": [\"\"\"dönerbude\"\"\"],\n",
    "            \"language\": [\"\"\"deutsch\"\"\"],\n",
    "            \"topic\": [\"\"\"Kostenloses Ayran zum Döner!\"\"\"],\n",
    "        },\n",
    "    ]\n",
    "    prompt = Prompt(\n",
    "        prompt_data=[text1],\n",
    "        model_name=\"gemini-1.5-flash-002\",\n",
    "        variables=variables,\n",
    "        generation_config=generation_config,\n",
    "        safety_settings=safety_settings,\n",
    "    )\n",
    "    # Generate content using the assembled prompt. Change the index if you want\n",
    "    # to use a different set in the variable value list.\n",
    "    responses = prompt.generate_content(\n",
    "        contents=prompt.assemble_contents(**prompt.variables[0]),\n",
    "        stream=True,\n",
    "    )\n",
    "\n",
    "    for response in responses:\n",
    "        print(response.text, end=\"\")\n",
    "\n",
    "text1 = \"\"\"You are a social media post generator specializing in creating engaging content for small restaurants and gastro businesses. You will receive parameters from a front-end application, which you will use to generate social media posts.\n",
    "\n",
    "Instructions:\n",
    "1. Carefully analyze the provided parameters.\n",
    "2. You have no opportunity to ask questions, answer directly.\n",
    "3. Generate one distinct social media post based on the provided parameters and business type.\n",
    "4. Strukturiere das JSON nach Title, Content, Hashtags\n",
    "5. Content darf keine Hashtags enthalten\n",
    "Parameters:\n",
    "{business}\n",
    "{language}\n",
    "{topic}\"\"\"\n",
    "\n",
    "generation_config = {\n",
    "    \"max_output_tokens\": 8192,\n",
    "    \"temperature\": 2,\n",
    "    \"top_p\": 0.95,\n",
    "}\n",
    "\n",
    "safety_settings = [\n",
    "    SafetySetting(\n",
    "        category=SafetySetting.HarmCategory.HARM_CATEGORY_HATE_SPEECH,\n",
    "        threshold=SafetySetting.HarmBlockThreshold.OFF\n",
    "    ),\n",
    "    SafetySetting(\n",
    "        category=SafetySetting.HarmCategory.HARM_CATEGORY_DANGEROUS_CONTENT,\n",
    "        threshold=SafetySetting.HarmBlockThreshold.OFF\n",
    "    ),\n",
    "    SafetySetting(\n",
    "        category=SafetySetting.HarmCategory.HARM_CATEGORY_SEXUALLY_EXPLICIT,\n",
    "        threshold=SafetySetting.HarmBlockThreshold.OFF\n",
    "    ),\n",
    "    SafetySetting(\n",
    "        category=SafetySetting.HarmCategory.HARM_CATEGORY_HARASSMENT,\n",
    "        threshold=SafetySetting.HarmBlockThreshold.OFF\n",
    "    ),\n",
    "]\n",
    "\n",
    "generate()"
   ],
   "outputs": [
    {
     "name": "stdout",
     "output_type": "stream",
     "text": [
      "Assembled prompt replacing: 1 instances of variable business, 1 instances of variable language, 1 instances of variable topic\n",
      "```json\n",
      "{\n",
      "  \"Title\": \"GRATIS AYRAN AKTION!\",\n",
      "  \"Content\": \"Leckerer Döner und jetzt auch noch ein erfrischendes Ayran gratis dazu!  Kommt vorbei und überzeugt euch selbst von unserem köstlichen Döner!  Das Angebot gilt nur für kurze Zeit, also beeilt euch!\",\n",
      "  \"Hashtags\": \"#Döner #GratisAyran #DönerBude #DeutscherDöner #Ayran #Essen #Berlin #[Stadtname einfügen falls relevant] #Aktionsangebot #JetztZuschlagen #Food #Lecker #DeutschesEssen #FastFood\"\n",
      "}\n",
      "```\n"
     ]
    }
   ],
   "execution_count": 3
  },
  {
   "metadata": {},
   "cell_type": "code",
   "outputs": [],
   "execution_count": null,
   "source": "",
   "id": "5273a565f9aa9301"
  }
 ],
 "metadata": {
  "kernelspec": {
   "display_name": "Python 3",
   "language": "python",
   "name": "python3"
  },
  "language_info": {
   "codemirror_mode": {
    "name": "ipython",
    "version": 2
   },
   "file_extension": ".py",
   "mimetype": "text/x-python",
   "name": "python",
   "nbconvert_exporter": "python",
   "pygments_lexer": "ipython2",
   "version": "2.7.6"
  }
 },
 "nbformat": 4,
 "nbformat_minor": 5
}
